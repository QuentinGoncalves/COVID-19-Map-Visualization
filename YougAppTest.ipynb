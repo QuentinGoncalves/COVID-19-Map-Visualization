{
  "nbformat": 4,
  "nbformat_minor": 0,
  "metadata": {
    "colab": {
      "name": "YougAppTest.ipynb",
      "provenance": [],
      "collapsed_sections": [],
      "authorship_tag": "ABX9TyM+JVGj2OYt5wYqxjAoiFU7",
      "include_colab_link": true
    },
    "kernelspec": {
      "name": "python3",
      "display_name": "Python 3"
    }
  },
  "cells": [
    {
      "cell_type": "markdown",
      "metadata": {
        "id": "view-in-github",
        "colab_type": "text"
      },
      "source": [
        "<a href=\"https://colab.research.google.com/github/QuentinGoncalves/COVID-19-Map-Visualization/blob/master/YougAppTest.ipynb\" target=\"_parent\"><img src=\"https://colab.research.google.com/assets/colab-badge.svg\" alt=\"Open In Colab\"/></a>"
      ]
    },
    {
      "cell_type": "markdown",
      "metadata": {
        "id": "OUPbYJOt0VEe"
      },
      "source": [
        "# **Goncalves Quentin - Data Science Test**"
      ]
    },
    {
      "cell_type": "markdown",
      "metadata": {
        "id": "tfUOjxju0Nf0"
      },
      "source": [
        "**Goal** : Extract total amount TTC on receipt document"
      ]
    },
    {
      "cell_type": "markdown",
      "metadata": {
        "id": "aGOIxkXG2BcY"
      },
      "source": [
        "# **1.** Importing the necessary libraries "
      ]
    },
    {
      "cell_type": "code",
      "metadata": {
        "id": "rUngVn8O2Twb"
      },
      "source": [
        "print(\"Bonjour\")"
      ],
      "execution_count": null,
      "outputs": []
    }
  ]
}